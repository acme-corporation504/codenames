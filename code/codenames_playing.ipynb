{
 "cells": [
  {
   "cell_type": "markdown",
   "metadata": {},
   "source": [
    "### codenames\n",
    "- scan in screenshot from codenames\n",
    "- extract the game box, words and colors\n",
    "- optimize hint selection for each color\n",
    "\n",
    "```\n",
    "conda install -c conda-forge pytesseract\n",
    "```"
   ]
  },
  {
   "cell_type": "code",
   "execution_count": 30,
   "metadata": {},
   "outputs": [],
   "source": [
    "import numpy as np\n",
    "import cv2 as cv\n",
    "import os\n",
    "from PIL import Image\n",
    "import pytesseract"
   ]
  },
  {
   "cell_type": "code",
   "execution_count": 31,
   "metadata": {},
   "outputs": [],
   "source": [
    "import matplotlib.pyplot as plt\n",
    "from collections import Counter"
   ]
  },
  {
   "cell_type": "code",
   "execution_count": 32,
   "metadata": {},
   "outputs": [],
   "source": [
    "wd = r'C:\\Users\\CHONGW2\\OneDrive - The Toronto-Dominion Bank\\Projects\\skunkworks\\opencv_playing'"
   ]
  },
  {
   "cell_type": "code",
   "execution_count": null,
   "metadata": {},
   "outputs": [],
   "source": [
    "image = cv.imread(os.path.join(wd, 'data', 'codenames.jpg'))\n",
    "cv.imshow(\"image\", image)\n",
    "cv.waitKey(0)\n",
    "cv.destroyAllWindows()"
   ]
  },
  {
   "cell_type": "code",
   "execution_count": null,
   "metadata": {},
   "outputs": [],
   "source": [
    "gray = cv.cvtColor(image, cv.COLOR_BGR2GRAY)"
   ]
  },
  {
   "cell_type": "code",
   "execution_count": null,
   "metadata": {},
   "outputs": [],
   "source": [
    "edges = cv.Canny(gray,50,150)\n",
    "cv.imshow(\"image\", edges)\n",
    "cv.waitKey(0)\n",
    "cv.destroyAllWindows()"
   ]
  },
  {
   "cell_type": "code",
   "execution_count": null,
   "metadata": {},
   "outputs": [],
   "source": [
    "contours, hierarchy = cv.findContours(edges, cv.RETR_TREE, cv.CHAIN_APPROX_NONE)"
   ]
  },
  {
   "cell_type": "code",
   "execution_count": null,
   "metadata": {},
   "outputs": [],
   "source": [
    "contours_img = cv.drawContours(image, contours, -1, (0,255,0), 3)\n",
    "cv.imshow(\"image\", contours_img)\n",
    "cv.waitKey(0)\n",
    "cv.destroyAllWindows()"
   ]
  },
  {
   "cell_type": "code",
   "execution_count": null,
   "metadata": {},
   "outputs": [],
   "source": [
    "red = image.copy()\n",
    "red[:,:,0] = 0\n",
    "red[:,:,1] = 0\n",
    "cv.imshow(\"image\", red)\n",
    "cv.waitKey(0)\n",
    "cv.destroyAllWindows()"
   ]
  },
  {
   "cell_type": "code",
   "execution_count": null,
   "metadata": {},
   "outputs": [],
   "source": [
    "red_gray = cv.cvtColor(red, cv.COLOR_BGR2GRAY)"
   ]
  },
  {
   "cell_type": "code",
   "execution_count": null,
   "metadata": {},
   "outputs": [],
   "source": [
    "ret, thresh_red = cv.threshold(red_gray, int(red_gray.mean()), 255, cv.THRESH_BINARY)\n",
    "cv.imshow(\"image\", thresh_red)\n",
    "cv.waitKey(0)\n",
    "cv.destroyAllWindows()"
   ]
  },
  {
   "cell_type": "code",
   "execution_count": null,
   "metadata": {},
   "outputs": [],
   "source": [
    "blur = cv.blur(red_gray,(5,5))\n",
    "cv.imshow(\"image\", thresh_red)\n",
    "cv.waitKey(0)\n",
    "cv.destroyAllWindows()"
   ]
  },
  {
   "cell_type": "code",
   "execution_count": null,
   "metadata": {},
   "outputs": [],
   "source": [
    "im2, contours, hierarchy = cv.findContours(thresh_red, cv.RETR_TREE, cv.CHAIN_APPROX_NONE)"
   ]
  },
  {
   "cell_type": "code",
   "execution_count": null,
   "metadata": {},
   "outputs": [],
   "source": [
    "image_copy = image.copy()\n",
    "contours_img = cv.drawContours(image_copy, contours, -1, (0,255,0), 3)\n",
    "cv.imshow(\"image\", contours_img)\n",
    "cv.waitKey(0)\n",
    "cv.destroyAllWindows()"
   ]
  },
  {
   "cell_type": "code",
   "execution_count": null,
   "metadata": {},
   "outputs": [],
   "source": [
    "color_array = image.reshape(-1,3)"
   ]
  },
  {
   "cell_type": "code",
   "execution_count": null,
   "metadata": {},
   "outputs": [],
   "source": [
    "cv.imshow(\"image\", image)\n",
    "cv.waitKey(0)\n",
    "cv.destroyAllWindows()"
   ]
  },
  {
   "cell_type": "code",
   "execution_count": null,
   "metadata": {},
   "outputs": [],
   "source": [
    "cv.imshow(\"image\", gray)\n",
    "cv.waitKey(0)\n",
    "cv.destroyAllWindows()"
   ]
  },
  {
   "cell_type": "code",
   "execution_count": null,
   "metadata": {},
   "outputs": [],
   "source": [
    "ret, thresh1 = cv.threshold(gray, int(gray.mean()), 255, cv.THRESH_BINARY)\n",
    "cv.imshow(\"image\", thresh1)\n",
    "cv.waitKey(0)\n",
    "cv.destroyAllWindows()"
   ]
  },
  {
   "cell_type": "code",
   "execution_count": null,
   "metadata": {},
   "outputs": [],
   "source": []
  },
  {
   "cell_type": "code",
   "execution_count": null,
   "metadata": {},
   "outputs": [],
   "source": [
    "gray.mean()"
   ]
  },
  {
   "cell_type": "code",
   "execution_count": null,
   "metadata": {},
   "outputs": [],
   "source": [
    "gray.std()/np.sqrt(len(gray))"
   ]
  },
  {
   "cell_type": "code",
   "execution_count": null,
   "metadata": {},
   "outputs": [],
   "source": [
    "gray_threshold = cv.inRange(gray, int(gray.mean() - 2*gray.std()/np.sqrt(len(gray))), int(gray.mean() + 2*gray.std()/np.sqrt(len(gray))))\n",
    "cv.imshow(\"image\", gray_threshold)\n",
    "cv.waitKey(0)\n",
    "cv.destroyAllWindows()"
   ]
  },
  {
   "cell_type": "code",
   "execution_count": null,
   "metadata": {},
   "outputs": [],
   "source": [
    "thresh1.shape"
   ]
  },
  {
   "cell_type": "code",
   "execution_count": null,
   "metadata": {},
   "outputs": [],
   "source": [
    "(thresh1==0).mean(1).shape"
   ]
  },
  {
   "cell_type": "code",
   "execution_count": null,
   "metadata": {},
   "outputs": [],
   "source": [
    "avg_white = (thresh1==0).mean()"
   ]
  },
  {
   "cell_type": "code",
   "execution_count": null,
   "metadata": {},
   "outputs": [],
   "source": [
    "std_white = (thresh1==0).std()"
   ]
  },
  {
   "cell_type": "code",
   "execution_count": null,
   "metadata": {},
   "outputs": [],
   "source": [
    "std_white/np.sqrt(len(thresh1))"
   ]
  },
  {
   "cell_type": "code",
   "execution_count": null,
   "metadata": {},
   "outputs": [],
   "source": [
    "x_avg_white, y_avg_white = (thresh1==0).mean(0), (thresh1==0).mean(1)"
   ]
  },
  {
   "cell_type": "code",
   "execution_count": null,
   "metadata": {},
   "outputs": [],
   "source": [
    "vert_lines = np.where((x_avg_white < (avg_white + 2*std_white/np.sqrt(len(thresh1)))) & (x_avg_white > (avg_white - 2*std_white/np.sqrt(len(thresh1)))))[0]"
   ]
  },
  {
   "cell_type": "code",
   "execution_count": null,
   "metadata": {},
   "outputs": [],
   "source": [
    "vert_lines"
   ]
  },
  {
   "cell_type": "code",
   "execution_count": null,
   "metadata": {},
   "outputs": [],
   "source": [
    "color = (255, 0, 0) \n",
    "thickness = 9\n",
    "for x in vert_lines:\n",
    "    thresh1 = cv.line(thresh1, (x,0), (x,thresh1.shape[1]), color, thickness)"
   ]
  },
  {
   "cell_type": "code",
   "execution_count": null,
   "metadata": {},
   "outputs": [],
   "source": [
    "plt.imshow(thresh1, cmap='gray')\n",
    "plt.show()"
   ]
  },
  {
   "cell_type": "code",
   "execution_count": null,
   "metadata": {},
   "outputs": [],
   "source": [
    "cv.imshow(\"image\", thresh1)\n",
    "cv.waitKey(0)\n",
    "cv.destroyAllWindows()"
   ]
  },
  {
   "cell_type": "code",
   "execution_count": null,
   "metadata": {},
   "outputs": [],
   "source": [
    "contours, hierarchy = cv.findContours(image, cv.RETR_TREE, cv.CHAIN_APPROX_NONE)"
   ]
  },
  {
   "cell_type": "code",
   "execution_count": null,
   "metadata": {},
   "outputs": [],
   "source": [
    "dims = [arr.shape[0] for arr in contours]"
   ]
  },
  {
   "cell_type": "code",
   "execution_count": null,
   "metadata": {},
   "outputs": [],
   "source": [
    "from sklearn.cluster import KMeans"
   ]
  },
  {
   "cell_type": "code",
   "execution_count": null,
   "metadata": {},
   "outputs": [],
   "source": [
    "# running kmeans for a specific rule\n",
    "X = np.array(dims).reshape((-1,1))\n",
    "\n",
    "sse = []\n",
    "for i in np.arange(2, 30, 1):\n",
    "    km = KMeans(\n",
    "        n_clusters=i, init='random',\n",
    "        n_init=10, max_iter=300,\n",
    "        tol=1e-04, random_state=0\n",
    "    )\n",
    "    km.fit(X)\n",
    "    sse.append(km.inertia_)\n",
    "\n",
    "# plot\n",
    "plt.plot(np.arange(2, 30, 1), sse, marker='o')\n",
    "plt.xlabel('Number of clusters')\n",
    "plt.ylabel('Distortion')\n",
    "plt.show()"
   ]
  },
  {
   "cell_type": "code",
   "execution_count": null,
   "metadata": {},
   "outputs": [],
   "source": [
    "# Compute the clusters\n",
    "n_clusters = 100\n",
    "kmeans = KMeans(n_clusters=n_clusters, random_state=0)\n",
    "clusters = kmeans.fit_predict(X)"
   ]
  },
  {
   "cell_type": "code",
   "execution_count": null,
   "metadata": {},
   "outputs": [],
   "source": [
    "clusters[X.reshape(-1)==1184]"
   ]
  },
  {
   "cell_type": "code",
   "execution_count": null,
   "metadata": {},
   "outputs": [],
   "source": [
    "X[clusters==71]"
   ]
  },
  {
   "cell_type": "code",
   "execution_count": null,
   "metadata": {},
   "outputs": [],
   "source": [
    "X[clusters==71].shape"
   ]
  },
  {
   "cell_type": "code",
   "execution_count": null,
   "metadata": {},
   "outputs": [],
   "source": [
    "Counter(clusters)"
   ]
  },
  {
   "cell_type": "code",
   "execution_count": null,
   "metadata": {},
   "outputs": [],
   "source": [
    "plt.figure(figsize=(10,10))\n",
    "ax = plt.scatter(x=X, y=np.repeat(10,len(X)), c=clusters)\n",
    "# ax.legend(loc='center left', bbox_to_anchor=(1, 0.5), ncol=1)\n",
    "plt.show()"
   ]
  },
  {
   "cell_type": "code",
   "execution_count": null,
   "metadata": {},
   "outputs": [],
   "source": []
  },
  {
   "cell_type": "code",
   "execution_count": null,
   "metadata": {},
   "outputs": [],
   "source": []
  },
  {
   "cell_type": "code",
   "execution_count": null,
   "metadata": {},
   "outputs": [],
   "source": [
    "contours_img = cv.drawContours(image, contours, -1, (0,255,0), 1)"
   ]
  },
  {
   "cell_type": "code",
   "execution_count": null,
   "metadata": {},
   "outputs": [],
   "source": [
    "cv.imshow(\"image\", contours_img)\n",
    "cv.waitKey(0)\n",
    "cv.destroyAllWindows()"
   ]
  },
  {
   "cell_type": "code",
   "execution_count": null,
   "metadata": {},
   "outputs": [],
   "source": [
    "len(contours)"
   ]
  },
  {
   "cell_type": "code",
   "execution_count": null,
   "metadata": {},
   "outputs": [],
   "source": [
    "contours2 = [arr for arr in contours if arr.shape==(1184, 1, 2)]"
   ]
  },
  {
   "cell_type": "code",
   "execution_count": null,
   "metadata": {},
   "outputs": [],
   "source": [
    "contours3 = [arr for arr in contours if arr.shape[0] in X[clusters==52].reshape(-1)]"
   ]
  },
  {
   "cell_type": "code",
   "execution_count": null,
   "metadata": {},
   "outputs": [],
   "source": [
    "image = cv.imread(os.path.join(wd, 'data', 'codenames.jpg'))"
   ]
  },
  {
   "cell_type": "code",
   "execution_count": null,
   "metadata": {},
   "outputs": [],
   "source": [
    "contours_img = cv.drawContours(image, contours3, -1, (0,255,0), 3)\n",
    "cv.imshow(\"image\", contours_img)\n",
    "cv.waitKey(0)\n",
    "cv.destroyAllWindows()"
   ]
  },
  {
   "cell_type": "code",
   "execution_count": null,
   "metadata": {},
   "outputs": [],
   "source": [
    "Counter([arr.shape for arr in contours])"
   ]
  },
  {
   "cell_type": "code",
   "execution_count": null,
   "metadata": {},
   "outputs": [],
   "source": []
  },
  {
   "cell_type": "code",
   "execution_count": null,
   "metadata": {},
   "outputs": [],
   "source": [
    "(thresh1==0).mean(0) > avg_white"
   ]
  },
  {
   "cell_type": "code",
   "execution_count": null,
   "metadata": {},
   "outputs": [],
   "source": [
    "blur = cv.bilateralFilter(thresh1,9,75,75)"
   ]
  },
  {
   "cell_type": "code",
   "execution_count": null,
   "metadata": {},
   "outputs": [],
   "source": [
    "cv.imshow(\"image\", thresh1)\n",
    "cv.waitKey(0)\n",
    "cv.destroyAllWindows()"
   ]
  },
  {
   "cell_type": "code",
   "execution_count": null,
   "metadata": {},
   "outputs": [],
   "source": [
    "frame_threshold = cv.inRange(gray, int(gray.mean() - gray.std()), int(gray.mean() + gray.std()))"
   ]
  },
  {
   "cell_type": "code",
   "execution_count": null,
   "metadata": {},
   "outputs": [],
   "source": [
    "cv.imshow(\"image\", frame_threshold)\n",
    "cv.waitKey(0)\n",
    "cv.destroyAllWindows()"
   ]
  },
  {
   "cell_type": "code",
   "execution_count": null,
   "metadata": {},
   "outputs": [],
   "source": [
    "color_array.mean(0)"
   ]
  },
  {
   "cell_type": "code",
   "execution_count": null,
   "metadata": {},
   "outputs": [],
   "source": []
  },
  {
   "cell_type": "code",
   "execution_count": null,
   "metadata": {},
   "outputs": [],
   "source": []
  },
  {
   "cell_type": "code",
   "execution_count": null,
   "metadata": {},
   "outputs": [],
   "source": []
  },
  {
   "cell_type": "markdown",
   "metadata": {},
   "source": [
    "### trying tesseract"
   ]
  },
  {
   "cell_type": "code",
   "execution_count": 33,
   "metadata": {},
   "outputs": [],
   "source": [
    "from PIL import Image\n",
    "import pytesseract"
   ]
  },
  {
   "cell_type": "code",
   "execution_count": 34,
   "metadata": {},
   "outputs": [],
   "source": [
    "pytesseract.pytesseract.tesseract_cmd = r'C:\\Users\\CHONGW2\\AppData\\Local\\Tesseract-OCR\\tesseract.exe'"
   ]
  },
  {
   "cell_type": "code",
   "execution_count": 35,
   "metadata": {},
   "outputs": [],
   "source": [
    "filename = os.path.join(wd, 'data', 'gray.png')"
   ]
  },
  {
   "cell_type": "code",
   "execution_count": 36,
   "metadata": {},
   "outputs": [
    {
     "ename": "NameError",
     "evalue": "name 'thresh1' is not defined",
     "output_type": "error",
     "traceback": [
      "\u001b[1;31m---------------------------------------------------------------------------\u001b[0m",
      "\u001b[1;31mNameError\u001b[0m                                 Traceback (most recent call last)",
      "\u001b[1;32m<ipython-input-36-c2712bc3a6a6>\u001b[0m in \u001b[0;36m<module>\u001b[1;34m\u001b[0m\n\u001b[1;32m----> 1\u001b[1;33m \u001b[0mcv\u001b[0m\u001b[1;33m.\u001b[0m\u001b[0mimwrite\u001b[0m\u001b[1;33m(\u001b[0m\u001b[0mfilename\u001b[0m\u001b[1;33m,\u001b[0m \u001b[0mthresh1\u001b[0m\u001b[1;33m)\u001b[0m\u001b[1;33m\u001b[0m\u001b[1;33m\u001b[0m\u001b[0m\n\u001b[0m",
      "\u001b[1;31mNameError\u001b[0m: name 'thresh1' is not defined"
     ]
    }
   ],
   "source": [
    "# cv.imwrite(filename, thresh1)"
   ]
  },
  {
   "cell_type": "code",
   "execution_count": 38,
   "metadata": {},
   "outputs": [
    {
     "name": "stdout",
     "output_type": "stream",
     "text": [
      "['MINT', 'HORSE', 'GREEN', 'STICK', 'BELT', 'BUFFALO', 'PYRAMID', 'SHOT', 'CLIFF', 'LUCK', 'CIRCLE', 'GAS', 'GLASS', 'CHANGE', 'ALPS', 'SUIT', 'ROCK', 'KID', 'PRINCESS', 'DRAFT', 'FAIR', 'SMUGGLER', 'CRASH', 'STAR']\n"
     ]
    }
   ],
   "source": [
    "text = pytesseract.image_to_string(Image.open(filename))\n",
    "# os.remove(filename)\n",
    "print(text.split())"
   ]
  },
  {
   "cell_type": "code",
   "execution_count": 39,
   "metadata": {},
   "outputs": [
    {
     "data": {
      "text/plain": [
       "'M 169 1212 192 1250 0\\nI 192 1212 213 1250 0\\nN 221 1212 243 1250 0\\nT 248 1212 265 1250 0\\nH 155 924 176 962 0\\nO 183 923 208 963 0\\nR 215 924 235 962 0\\nS 227 923 248 963 0\\nE 241 923 278 963 0\\nG 155 635 180 675 0\\nR 186 636 207 674 0\\nE 213 636 227 674 0\\nE 234 636 248 674 0\\nN 254 636 277 674 0\\nS 166 347 184 387 0\\nT 187 348 215 386 0\\nI 202 347 223 387 0\\nC 222 347 240 387 0\\nK 247 348 267 386 0\\nB 179 60 197 98 0\\nE 204 60 217 98 0\\nL 224 60 238 98 0\\nT 239 60 257 98 0\\nB 582 1212 600 1250 0\\nU 607 1211 628 1250 0\\nF 636 1212 649 1250 0\\nF 656 1212 669 1250 0\\nA 672 1212 696 1250 0\\nL 701 1212 715 1250 0\\nO 719 1211 744 1251 0\\nP 575 924 594 962 0\\nY 596 924 620 962 0\\nR 625 924 645 962 0\\nA 650 924 674 962 0\\nM 678 924 711 962 0\\nI 717 924 723 962 0\\nD 730 924 752 962 0\\nS 614 635 632 675 0\\nH 638 636 659 674 0\\nO 666 635 691 675 0\\nT 695 636 713 674 0\\nC 617 347 635 387 0\\nL 633 347 654 387 0\\nI 642 348 667 386 0\\nF 674 348 688 386 0\\nF 694 348 708 386 0\\nL 618 60 632 98 0\\nU 637 59 658 98 0\\nC 664 59 682 99 0\\nK 689 60 710 98 0\\nC 1049 923 1067 963 0\\nI 1073 924 1079 962 0\\nR 1087 924 1107 962 0\\nC 1112 923 1130 963 0\\nL 1137 924 1151 962 0\\nE 1156 924 1169 962 0\\nG 1073 635 1097 675 0\\nA 1101 636 1125 674 0\\nS 1128 635 1146 675 0\\nG 1052 347 1076 387 0\\nL 1083 348 1097 386 0\\nA 1101 348 1125 386 0\\nS 1128 347 1146 387 0\\nS 1150 347 1167 387 0\\nC 1032 59 1050 99 0\\nH 1057 60 1078 98 0\\nA 1083 60 1107 98 0\\nN 1112 60 1134 98 0\\nG 1141 59 1165 99 0\\nE 1172 60 1186 98 0\\nA 1510 1212 1534 1250 0\\nL 1539 1212 1553 1250 0\\nP 1558 1212 1577 1250 0\\nS 1582 1211 1600 1251 0\\nS 1516 923 1534 963 0\\nU 1540 923 1561 962 0\\nI 1552 923 1573 963 0\\nT 1568 924 1597 962 0\\nR 1506 636 1526 674 0\\nO 1531 635 1557 675 0\\nC 1562 635 1580 675 0\\nK 1587 636 1608 674 0\\nK 1525 348 1557 386 0\\nI 1545 348 1566 386 0\\nD 1565 348 1587 386 0\\nP 1468 60 1487 98 0\\nR 1493 60 1513 98 0\\nI 1520 60 1526 98 0\\nN 1533 60 1556 98 0\\nC 1562 59 1580 99 0\\nE 1587 60 1600 98 0\\nS 1606 59 1624 99 0\\nS 1627 59 1645 99 0\\nD 1944 1212 1966 1250 0\\nR 1973 1212 1993 1250 0\\nA 1998 1212 2022 1250 0\\nF 2013 1212 2034 1250 0\\nT 2027 1212 2062 1250 0\\nF 1962 924 1976 962 0\\nA 1979 924 2003 962 0\\nI 1997 924 2013 962 0\\nR 2008 924 2039 962 0\\nS 1897 635 1914 675 0\\nM 1919 636 1952 674 0\\nU 1958 635 1979 674 0\\nG 1985 635 2010 675 0\\nG 2016 635 2040 675 0\\nL 2030 635 2056 675 0\\nE 2047 636 2079 674 0\\nR 2086 636 2107 674 0\\nC 1940 347 1958 387 0\\nR 1965 348 1985 386 0\\nA 1990 348 2014 386 0\\nS 2018 347 2035 387 0\\nH 2041 348 2063 386 0\\nS 1957 59 1975 99 0\\nT 1978 60 1995 98 0\\nA 1997 60 2021 98 0\\nR 2026 60 2046 98 0'"
      ]
     },
     "execution_count": 39,
     "metadata": {},
     "output_type": "execute_result"
    }
   ],
   "source": [
    "pytesseract.image_to_boxes(Image.open(filename))"
   ]
  },
  {
   "cell_type": "markdown",
   "metadata": {},
   "source": [
    "### trying optimization"
   ]
  },
  {
   "cell_type": "code",
   "execution_count": 2,
   "metadata": {},
   "outputs": [],
   "source": [
    "red = np.array(['horse', 'belt', 'shot', 'change', 'suit', 'kid', 'princess', 'crash'])\n",
    "blue = np.array(['mint', 'stick', 'buffalo', 'cliff', 'luck', 'glass', 'alps', 'smuggler', 'star'])\n",
    "neutral = np.array(['green', 'pyramid', 'circle', 'gas', 'rock', 'draft', 'fair'])\n",
    "black = np.array(['pupil'])"
   ]
  },
  {
   "cell_type": "code",
   "execution_count": 3,
   "metadata": {},
   "outputs": [
    {
     "data": {
      "text/plain": [
       "array(['horse', 'belt', 'shot', 'change', 'suit', 'kid', 'princess',\n",
       "       'crash', 'mint', 'stick', 'buffalo', 'cliff', 'luck', 'glass',\n",
       "       'alps', 'smuggler', 'star', 'green', 'pyramid', 'circle', 'gas',\n",
       "       'rock', 'draft', 'fair', 'pupil'], dtype='<U8')"
      ]
     },
     "execution_count": 3,
     "metadata": {},
     "output_type": "execute_result"
    }
   ],
   "source": [
    "everything = np.concatenate((red, blue, neutral, black))\n",
    "everything"
   ]
  },
  {
   "cell_type": "code",
   "execution_count": 70,
   "metadata": {},
   "outputs": [
    {
     "name": "stdout",
     "output_type": "stream",
     "text": [
      "[==================================================] 100.0% 387.1/387.1MB downloaded\n"
     ]
    },
    {
     "data": {
      "text/plain": [
       "[('bottle', 0.7187241315841675),\n",
       " ('crystal', 0.6808942556381226),\n",
       " ('light', 0.6784807443618774),\n",
       " ('wine', 0.6726185083389282),\n",
       " ('lamp', 0.6709625720977783),\n",
       " ('wall', 0.666566014289856),\n",
       " ('green', 0.6661511063575745),\n",
       " ('silver', 0.6573828458786011),\n",
       " ('cherry', 0.6446923017501831),\n",
       " ('white', 0.6388335227966309)]"
      ]
     },
     "execution_count": 70,
     "metadata": {},
     "output_type": "execute_result"
    }
   ],
   "source": [
    "# get pretrained model\n",
    "import gensim.downloader as api\n",
    "# api.load('glove-wiki-gigaword-100', return_path=True)\n",
    "# glove-twitter-100\n",
    "model = api.load(\"glove-twitter-100\")\n",
    "model.most_similar(\"glass\")\n"
   ]
  },
  {
   "cell_type": "code",
   "execution_count": 14,
   "metadata": {},
   "outputs": [
    {
     "data": {
      "text/plain": [
       "[('father', 0.7581130266189575),\n",
       " ('mother', 0.7420350313186646),\n",
       " ('son', 0.7351132035255432),\n",
       " ('daughter', 0.7230614423751831),\n",
       " ('man', 0.721849262714386),\n",
       " ('queen', 0.7136995792388916),\n",
       " ('wife', 0.7132636904716492),\n",
       " ('her', 0.7127906084060669),\n",
       " ('brother', 0.7064565420150757),\n",
       " ('his', 0.7014669179916382)]"
      ]
     },
     "execution_count": 14,
     "metadata": {},
     "output_type": "execute_result"
    }
   ],
   "source": [
    "model.most_similar_cosmul(positive=['woman', 'king'])"
   ]
  },
  {
   "cell_type": "code",
   "execution_count": 16,
   "metadata": {},
   "outputs": [
    {
     "data": {
      "text/plain": [
       "array([ 0.16149   ,  0.66717005, -0.58863497, -0.2586555 ,  1.07098   ,\n",
       "        0.60501003, -0.26059002,  0.52718   , -0.13121   , -0.28098   ,\n",
       "        0.062937  ,  0.388285  ,  0.13595551, -0.21023   ,  0.760785  ,\n",
       "        0.218185  , -0.713745  ,  0.05911499, -0.286263  ,  0.45073003,\n",
       "       -0.17094499,  0.821175  , -0.0905965 ,  0.197255  ,  0.55234003,\n",
       "       -2.44845   , -0.92182505, -0.369505  , -0.073295  , -0.00870001,\n",
       "        2.14235   , -0.158225  , -0.47244   ,  0.35605145,  0.33041   ,\n",
       "        0.1294865 ,  0.159915  , -0.110197  , -0.25370997, -0.336685  ,\n",
       "        0.07463999,  0.79486495, -0.26376998, -0.0967625 ,  0.20302501,\n",
       "       -0.03451002, -0.57157004, -1.4621999 , -0.07831   , -0.307545  ],\n",
       "      dtype=float32)"
      ]
     },
     "execution_count": 16,
     "metadata": {},
     "output_type": "execute_result"
    }
   ],
   "source": [
    "(model['king']+model['woman'])/2"
   ]
  },
  {
   "cell_type": "code",
   "execution_count": 42,
   "metadata": {},
   "outputs": [
    {
     "data": {
      "text/plain": [
       "[('belts', 0.8093633055686951),\n",
       " ('conveyer', 0.7111872434616089),\n",
       " ('conveyor', 0.685033917427063),\n",
       " ('waist', 0.6747647523880005),\n",
       " ('grip', 0.6731212139129639),\n",
       " ('helmet', 0.6455352306365967),\n",
       " ('trunk', 0.6446360945701599),\n",
       " ('ring', 0.6412265300750732),\n",
       " ('rope', 0.6406635046005249),\n",
       " ('heel', 0.639432430267334)]"
      ]
     },
     "execution_count": 42,
     "metadata": {},
     "output_type": "execute_result"
    }
   ],
   "source": [
    "model.most_similar(positive=['belt'], topn=10)"
   ]
  },
  {
   "cell_type": "code",
   "execution_count": 43,
   "metadata": {},
   "outputs": [
    {
     "ename": "TypeError",
     "evalue": "not all arguments converted during string formatting",
     "output_type": "error",
     "traceback": [
      "\u001b[1;31m---------------------------------------------------------------------------\u001b[0m",
      "\u001b[1;31mTypeError\u001b[0m                                 Traceback (most recent call last)",
      "\u001b[1;32m<ipython-input-43-883a1e5e38c9>\u001b[0m in \u001b[0;36m<module>\u001b[1;34m\u001b[0m\n\u001b[1;32m----> 1\u001b[1;33m \u001b[0mmodel\u001b[0m\u001b[1;33m[\u001b[0m\u001b[0mmodel\u001b[0m\u001b[1;33m.\u001b[0m\u001b[0mmost_similar\u001b[0m\u001b[1;33m(\u001b[0m\u001b[0mpositive\u001b[0m\u001b[1;33m=\u001b[0m\u001b[1;33m[\u001b[0m\u001b[1;34m'belt'\u001b[0m\u001b[1;33m]\u001b[0m\u001b[1;33m,\u001b[0m \u001b[0mtopn\u001b[0m\u001b[1;33m=\u001b[0m\u001b[1;36m10\u001b[0m\u001b[1;33m)\u001b[0m\u001b[1;33m]\u001b[0m\u001b[1;33m\u001b[0m\u001b[1;33m\u001b[0m\u001b[0m\n\u001b[0m",
      "\u001b[1;32m~\\AppData\\Local\\Continuum\\anaconda3\\envs\\opencv_playing\\lib\\site-packages\\gensim\\models\\keyedvectors.py\u001b[0m in \u001b[0;36m__getitem__\u001b[1;34m(self, entities)\u001b[0m\n\u001b[0;32m    353\u001b[0m             \u001b[1;32mreturn\u001b[0m \u001b[0mself\u001b[0m\u001b[1;33m.\u001b[0m\u001b[0mget_vector\u001b[0m\u001b[1;33m(\u001b[0m\u001b[0mentities\u001b[0m\u001b[1;33m)\u001b[0m\u001b[1;33m\u001b[0m\u001b[1;33m\u001b[0m\u001b[0m\n\u001b[0;32m    354\u001b[0m \u001b[1;33m\u001b[0m\u001b[0m\n\u001b[1;32m--> 355\u001b[1;33m         \u001b[1;32mreturn\u001b[0m \u001b[0mvstack\u001b[0m\u001b[1;33m(\u001b[0m\u001b[1;33m[\u001b[0m\u001b[0mself\u001b[0m\u001b[1;33m.\u001b[0m\u001b[0mget_vector\u001b[0m\u001b[1;33m(\u001b[0m\u001b[0mentity\u001b[0m\u001b[1;33m)\u001b[0m \u001b[1;32mfor\u001b[0m \u001b[0mentity\u001b[0m \u001b[1;32min\u001b[0m \u001b[0mentities\u001b[0m\u001b[1;33m]\u001b[0m\u001b[1;33m)\u001b[0m\u001b[1;33m\u001b[0m\u001b[1;33m\u001b[0m\u001b[0m\n\u001b[0m\u001b[0;32m    356\u001b[0m \u001b[1;33m\u001b[0m\u001b[0m\n\u001b[0;32m    357\u001b[0m     \u001b[1;32mdef\u001b[0m \u001b[0m__contains__\u001b[0m\u001b[1;33m(\u001b[0m\u001b[0mself\u001b[0m\u001b[1;33m,\u001b[0m \u001b[0mentity\u001b[0m\u001b[1;33m)\u001b[0m\u001b[1;33m:\u001b[0m\u001b[1;33m\u001b[0m\u001b[1;33m\u001b[0m\u001b[0m\n",
      "\u001b[1;32m~\\AppData\\Local\\Continuum\\anaconda3\\envs\\opencv_playing\\lib\\site-packages\\gensim\\models\\keyedvectors.py\u001b[0m in \u001b[0;36m<listcomp>\u001b[1;34m(.0)\u001b[0m\n\u001b[0;32m    353\u001b[0m             \u001b[1;32mreturn\u001b[0m \u001b[0mself\u001b[0m\u001b[1;33m.\u001b[0m\u001b[0mget_vector\u001b[0m\u001b[1;33m(\u001b[0m\u001b[0mentities\u001b[0m\u001b[1;33m)\u001b[0m\u001b[1;33m\u001b[0m\u001b[1;33m\u001b[0m\u001b[0m\n\u001b[0;32m    354\u001b[0m \u001b[1;33m\u001b[0m\u001b[0m\n\u001b[1;32m--> 355\u001b[1;33m         \u001b[1;32mreturn\u001b[0m \u001b[0mvstack\u001b[0m\u001b[1;33m(\u001b[0m\u001b[1;33m[\u001b[0m\u001b[0mself\u001b[0m\u001b[1;33m.\u001b[0m\u001b[0mget_vector\u001b[0m\u001b[1;33m(\u001b[0m\u001b[0mentity\u001b[0m\u001b[1;33m)\u001b[0m \u001b[1;32mfor\u001b[0m \u001b[0mentity\u001b[0m \u001b[1;32min\u001b[0m \u001b[0mentities\u001b[0m\u001b[1;33m]\u001b[0m\u001b[1;33m)\u001b[0m\u001b[1;33m\u001b[0m\u001b[1;33m\u001b[0m\u001b[0m\n\u001b[0m\u001b[0;32m    356\u001b[0m \u001b[1;33m\u001b[0m\u001b[0m\n\u001b[0;32m    357\u001b[0m     \u001b[1;32mdef\u001b[0m \u001b[0m__contains__\u001b[0m\u001b[1;33m(\u001b[0m\u001b[0mself\u001b[0m\u001b[1;33m,\u001b[0m \u001b[0mentity\u001b[0m\u001b[1;33m)\u001b[0m\u001b[1;33m:\u001b[0m\u001b[1;33m\u001b[0m\u001b[1;33m\u001b[0m\u001b[0m\n",
      "\u001b[1;32m~\\AppData\\Local\\Continuum\\anaconda3\\envs\\opencv_playing\\lib\\site-packages\\gensim\\models\\keyedvectors.py\u001b[0m in \u001b[0;36mget_vector\u001b[1;34m(self, word)\u001b[0m\n\u001b[0;32m    469\u001b[0m \u001b[1;33m\u001b[0m\u001b[0m\n\u001b[0;32m    470\u001b[0m     \u001b[1;32mdef\u001b[0m \u001b[0mget_vector\u001b[0m\u001b[1;33m(\u001b[0m\u001b[0mself\u001b[0m\u001b[1;33m,\u001b[0m \u001b[0mword\u001b[0m\u001b[1;33m)\u001b[0m\u001b[1;33m:\u001b[0m\u001b[1;33m\u001b[0m\u001b[1;33m\u001b[0m\u001b[0m\n\u001b[1;32m--> 471\u001b[1;33m         \u001b[1;32mreturn\u001b[0m \u001b[0mself\u001b[0m\u001b[1;33m.\u001b[0m\u001b[0mword_vec\u001b[0m\u001b[1;33m(\u001b[0m\u001b[0mword\u001b[0m\u001b[1;33m)\u001b[0m\u001b[1;33m\u001b[0m\u001b[1;33m\u001b[0m\u001b[0m\n\u001b[0m\u001b[0;32m    472\u001b[0m \u001b[1;33m\u001b[0m\u001b[0m\n\u001b[0;32m    473\u001b[0m     \u001b[1;32mdef\u001b[0m \u001b[0mwords_closer_than\u001b[0m\u001b[1;33m(\u001b[0m\u001b[0mself\u001b[0m\u001b[1;33m,\u001b[0m \u001b[0mw1\u001b[0m\u001b[1;33m,\u001b[0m \u001b[0mw2\u001b[0m\u001b[1;33m)\u001b[0m\u001b[1;33m:\u001b[0m\u001b[1;33m\u001b[0m\u001b[1;33m\u001b[0m\u001b[0m\n",
      "\u001b[1;32m~\\AppData\\Local\\Continuum\\anaconda3\\envs\\opencv_playing\\lib\\site-packages\\gensim\\models\\keyedvectors.py\u001b[0m in \u001b[0;36mword_vec\u001b[1;34m(self, word, use_norm)\u001b[0m\n\u001b[0;32m    466\u001b[0m             \u001b[1;32mreturn\u001b[0m \u001b[0mresult\u001b[0m\u001b[1;33m\u001b[0m\u001b[1;33m\u001b[0m\u001b[0m\n\u001b[0;32m    467\u001b[0m         \u001b[1;32melse\u001b[0m\u001b[1;33m:\u001b[0m\u001b[1;33m\u001b[0m\u001b[1;33m\u001b[0m\u001b[0m\n\u001b[1;32m--> 468\u001b[1;33m             \u001b[1;32mraise\u001b[0m \u001b[0mKeyError\u001b[0m\u001b[1;33m(\u001b[0m\u001b[1;34m\"word '%s' not in vocabulary\"\u001b[0m \u001b[1;33m%\u001b[0m \u001b[0mword\u001b[0m\u001b[1;33m)\u001b[0m\u001b[1;33m\u001b[0m\u001b[1;33m\u001b[0m\u001b[0m\n\u001b[0m\u001b[0;32m    469\u001b[0m \u001b[1;33m\u001b[0m\u001b[0m\n\u001b[0;32m    470\u001b[0m     \u001b[1;32mdef\u001b[0m \u001b[0mget_vector\u001b[0m\u001b[1;33m(\u001b[0m\u001b[0mself\u001b[0m\u001b[1;33m,\u001b[0m \u001b[0mword\u001b[0m\u001b[1;33m)\u001b[0m\u001b[1;33m:\u001b[0m\u001b[1;33m\u001b[0m\u001b[1;33m\u001b[0m\u001b[0m\n",
      "\u001b[1;31mTypeError\u001b[0m: not all arguments converted during string formatting"
     ]
    }
   ],
   "source": [
    "model[model.most_similar(positive=['belt'], topn=10)]"
   ]
  },
  {
   "cell_type": "code",
   "execution_count": 28,
   "metadata": {},
   "outputs": [
    {
     "name": "stdout",
     "output_type": "stream",
     "text": [
      "belt horse\n",
      "[('horse', 0.8737381100654602), ('belt', 0.8694759607315063), ('riding', 0.7257648706436157)]\n",
      "shot horse\n",
      "[('shot', 0.8469933867454529), ('horse', 0.816696286201477), ('pulled', 0.7947872877120972)]\n",
      "shot belt\n",
      "[('shot', 0.8549672365188599), ('belt', 0.8130803108215332), ('pulled', 0.8087259531021118)]\n",
      "change horse\n",
      "[('this', 0.8236865997314453), ('horse', 0.808336615562439), ('change', 0.8048089742660522)]\n",
      "change belt\n",
      "[('change', 0.8323100805282593), ('belt', 0.8212648034095764), ('control', 0.8034288883209229)]\n",
      "change shot\n",
      "[('but', 0.9005899429321289), ('out', 0.8944075703620911), ('put', 0.8942121267318726)]\n",
      "suit horse\n",
      "[('suit', 0.8404357433319092), ('horse', 0.8298599720001221), ('dog', 0.7573620676994324)]\n",
      "suit belt\n",
      "[('suit', 0.8455564975738525), ('belt', 0.8229615688323975), ('suits', 0.746342658996582)]\n",
      "suit shot\n",
      "[('shot', 0.824576199054718), ('pulled', 0.8136223554611206), ('suit', 0.7982337474822998)]\n",
      "suit change\n",
      "[('suit', 0.8554710149765015), ('change', 0.8428727388381958), ('any', 0.8373230695724487)]\n",
      "kid horse\n",
      "[('dog', 0.8717760443687439), ('horse', 0.8588435649871826), ('kid', 0.8577742576599121)]\n",
      "kid belt\n",
      "[('kid', 0.8248087167739868), ('belt', 0.8143850564956665), ('cowboy', 0.7140257358551025)]\n",
      "kid shot\n",
      "[('shot', 0.8621934652328491), ('man', 0.8370646238327026), ('kid', 0.8327978849411011)]\n",
      "kid change\n",
      "[('something', 0.8943105936050415), ('thing', 0.8940305113792419), ('kind', 0.8908702731132507)]\n",
      "kid suit\n",
      "[('suit', 0.8181110620498657), ('kid', 0.804267406463623), ('boy', 0.7734493017196655)]\n",
      "princess horse\n",
      "[('princess', 0.8521592617034912), ('queen', 0.8219075202941895), ('horse', 0.8030524253845215)]\n",
      "princess belt\n",
      "[('princess', 0.7964842319488525), ('queen', 0.7755929231643677), ('crown', 0.7122024297714233)]\n",
      "princess shot\n",
      "[('her', 0.7802491188049316), ('woman', 0.7722783088684082), ('man', 0.7669247388839722)]\n",
      "princess change\n",
      "[('princess', 0.7779991030693054), ('queen', 0.7572687864303589), ('may', 0.745831310749054)]\n",
      "princess suit\n",
      "[('princess', 0.8357189893722534), ('suit', 0.7906044721603394), ('queen', 0.7734437584877014)]\n",
      "princess kid\n",
      "[('girl', 0.8376038074493408), ('princess', 0.8139249086380005), ('lover', 0.7956788539886475)]\n",
      "crash horse\n",
      "[('crash', 0.8248758912086487), ('horse', 0.8055233955383301), ('accident', 0.7875915169715881)]\n",
      "crash belt\n",
      "[('crash', 0.8368160724639893), ('belt', 0.8023511171340942), ('crashed', 0.7796701192855835)]\n",
      "crash shot\n",
      "[('shot', 0.8730500936508179), ('crash', 0.8691567182540894), ('crashed', 0.8411287665367126)]\n",
      "crash change\n",
      "[('crash', 0.8427340984344482), ('change', 0.8213143944740295), ('possible', 0.8104804754257202)]\n",
      "crash suit\n",
      "[('crash', 0.8080499768257141), ('suit', 0.7964906692504883), ('case', 0.749275803565979)]\n",
      "crash kid\n",
      "[('crash', 0.7902905344963074), ('kid', 0.7627440094947815), ('boy', 0.7619025707244873)]\n",
      "crash princess\n",
      "[('princess', 0.8368449211120605), ('crash', 0.8042917251586914), ('accident', 0.7359086275100708)]\n"
     ]
    }
   ],
   "source": [
    "# averaging\n",
    "for i in range(len(red)):\n",
    "    for j in range(i):\n",
    "        print(red[i], red[j])\n",
    "        print(model.most_similar(positive=[model[red[i]]+model[red[j]]], topn=3))"
   ]
  },
  {
   "cell_type": "markdown",
   "metadata": {},
   "source": [
    "### topk\n",
    "- grabbing topK, removing the most similar (may be a plural, for example)\n",
    "- pairwise comparison between topK"
   ]
  },
  {
   "cell_type": "code",
   "execution_count": 68,
   "metadata": {},
   "outputs": [
    {
     "name": "stdout",
     "output_type": "stream",
     "text": [
      "belt horse\n",
      "['belts', 'conveyer', 'conveyor', 'waist', 'grip', 'helmet', 'trunk', 'ring', 'rope', 'heel', 'boot', 'patch', 'strap', 'outer', 'gear', 'control', 'blade', 'neck', 'attached', 'tight']\n",
      "['horses', 'dog', 'riding', 'bull', 'breeders', 'cat', 'derby', 'ride', 'camel', 'bike', 'thoroughbred', 'racing', 'rides', 'pack', 'pony', 'rode', 'stud', 'hunting', 'cart', 'race']\n",
      "[['boot' 'pack']\n",
      " ['gear' 'pack']]\n",
      "shot horse\n",
      "['shots', 'pulled', 'grabbed', 'missed', 'caught', 'off', 'shooting', 'struck', 'behind', 'landed', 'shoot', 'hit', 'ball', 'picked', 'out', 'fired', 'blew', 'threw', 'turned', 'man']\n",
      "['horses', 'dog', 'riding', 'bull', 'breeders', 'cat', 'derby', 'ride', 'camel', 'bike', 'thoroughbred', 'racing', 'rides', 'pack', 'pony', 'rode', 'stud', 'hunting', 'cart', 'race']\n",
      "[['behind' 'race']\n",
      " ['shoot' 'pack']\n",
      " ['picked' 'pack']\n",
      " ['out' 'pack']\n",
      " ['man' 'dog']]\n",
      "shot belt\n",
      "['shots', 'pulled', 'grabbed', 'missed', 'caught', 'off', 'shooting', 'struck', 'behind', 'landed', 'shoot', 'hit', 'ball', 'picked', 'out', 'fired', 'blew', 'threw', 'turned', 'man']\n",
      "['belts', 'conveyer', 'conveyor', 'waist', 'grip', 'helmet', 'trunk', 'ring', 'rope', 'heel', 'boot', 'patch', 'strap', 'outer', 'gear', 'control', 'blade', 'neck', 'attached', 'tight']\n",
      "[['out' 'control']\n",
      " ['turned' 'control']]\n",
      "change horse\n",
      "['this', 'future', 'should', 'reason', 'changing', 'follow', 'not', 'step', 'mean', 'meant', 'would', 'means', 'does', 'see', 'any', 'indeed', 'might', 'that', 'likely']\n",
      "['horses', 'dog', 'riding', 'bull', 'breeders', 'cat', 'derby', 'ride', 'camel', 'bike', 'thoroughbred', 'racing', 'rides', 'pack', 'pony', 'rode', 'stud', 'hunting', 'cart', 'race']\n",
      "[]\n",
      "change belt\n",
      "['this', 'future', 'should', 'reason', 'changing', 'follow', 'not', 'step', 'mean', 'meant', 'would', 'means', 'does', 'see', 'any', 'indeed', 'might', 'that', 'likely']\n",
      "['belts', 'conveyer', 'conveyor', 'waist', 'grip', 'helmet', 'trunk', 'ring', 'rope', 'heel', 'boot', 'patch', 'strap', 'outer', 'gear', 'control', 'blade', 'neck', 'attached', 'tight']\n",
      "[['this' 'control']\n",
      " ['future' 'control']\n",
      " ['should' 'control']\n",
      " ['changing' 'control']\n",
      " ['not' 'control']\n",
      " ['step' 'control']\n",
      " ['meant' 'control']\n",
      " ['would' 'control']\n",
      " ['means' 'control']\n",
      " ['does' 'control']\n",
      " ['any' 'control']\n",
      " ['might' 'control']\n",
      " ['that' 'control']\n",
      " ['likely' 'control']]\n",
      "change shot\n",
      "['this', 'future', 'should', 'reason', 'changing', 'follow', 'not', 'step', 'mean', 'meant', 'would', 'means', 'does', 'see', 'any', 'indeed', 'might', 'that', 'likely']\n",
      "['shots', 'pulled', 'grabbed', 'missed', 'caught', 'off', 'shooting', 'struck', 'behind', 'landed', 'shoot', 'hit', 'ball', 'picked', 'out', 'fired', 'blew', 'threw', 'turned', 'man']\n",
      "[['this' 'off']\n",
      " ['this' 'behind']\n",
      " ['this' 'out']\n",
      " ['this' 'turned']\n",
      " ['this' 'man']\n",
      " ['should' 'out']\n",
      " ['reason' 'out']\n",
      " ['reason' 'turned']\n",
      " ['follow' 'out']\n",
      " ['not' 'behind']\n",
      " ['not' 'out']\n",
      " ['not' 'turned']\n",
      " ['not' 'man']\n",
      " ['step' 'out']\n",
      " ['mean' 'out']\n",
      " ['meant' 'off']\n",
      " ['meant' 'out']\n",
      " ['meant' 'turned']\n",
      " ['would' 'off']\n",
      " ['would' 'out']\n",
      " ['would' 'turned']\n",
      " ['means' 'out']\n",
      " ['does' 'out']\n",
      " ['see' 'out']\n",
      " ['see' 'turned']\n",
      " ['any' 'out']\n",
      " ['any' 'turned']\n",
      " ['indeed' 'out']\n",
      " ['indeed' 'turned']\n",
      " ['indeed' 'man']\n",
      " ['might' 'off']\n",
      " ['might' 'behind']\n",
      " ['might' 'out']\n",
      " ['might' 'turned']\n",
      " ['that' 'off']\n",
      " ['that' 'behind']\n",
      " ['that' 'picked']\n",
      " ['that' 'out']\n",
      " ['that' 'turned']\n",
      " ['that' 'man']\n",
      " ['likely' 'behind']\n",
      " ['likely' 'picked']\n",
      " ['likely' 'out']\n",
      " ['likely' 'turned']]\n",
      "suit horse\n",
      "['suits', 'trademark', 'lawsuit', 'complaint', 'filed', 'white', 'case', 'court', 'patent', 'shirt', 'black', 'dress', 'face', 'wearing', 'appeal', 'jacket', 'antitrust', 'protective', 'wore', 'rules']\n",
      "['horses', 'dog', 'riding', 'bull', 'breeders', 'cat', 'derby', 'ride', 'camel', 'bike', 'thoroughbred', 'racing', 'rides', 'pack', 'pony', 'rode', 'stud', 'hunting', 'cart', 'race']\n",
      "[]\n",
      "suit belt\n",
      "['suits', 'trademark', 'lawsuit', 'complaint', 'filed', 'white', 'case', 'court', 'patent', 'shirt', 'black', 'dress', 'face', 'wearing', 'appeal', 'jacket', 'antitrust', 'protective', 'wore', 'rules']\n",
      "['belts', 'conveyer', 'conveyor', 'waist', 'grip', 'helmet', 'trunk', 'ring', 'rope', 'heel', 'boot', 'patch', 'strap', 'outer', 'gear', 'control', 'blade', 'neck', 'attached', 'tight']\n",
      "[['shirt' 'helmet']\n",
      " ['face' 'tight']\n",
      " ['wearing' 'helmet']\n",
      " ['jacket' 'waist']\n",
      " ['jacket' 'helmet']\n",
      " ['protective' 'helmet']\n",
      " ['protective' 'attached']\n",
      " ['wore' 'helmet']]\n",
      "suit shot\n",
      "['suits', 'trademark', 'lawsuit', 'complaint', 'filed', 'white', 'case', 'court', 'patent', 'shirt', 'black', 'dress', 'face', 'wearing', 'appeal', 'jacket', 'antitrust', 'protective', 'wore', 'rules']\n",
      "['shots', 'pulled', 'grabbed', 'missed', 'caught', 'off', 'shooting', 'struck', 'behind', 'landed', 'shoot', 'hit', 'ball', 'picked', 'out', 'fired', 'blew', 'threw', 'turned', 'man']\n",
      "[['white' 'turned']\n",
      " ['black' 'turned']\n",
      " ['black' 'man']\n",
      " ['face' 'pulled']\n",
      " ['face' 'off']\n",
      " ['face' 'behind']\n",
      " ['face' 'out']\n",
      " ['face' 'turned']\n",
      " ['face' 'man']]\n",
      "suit change\n",
      "['suits', 'trademark', 'lawsuit', 'complaint', 'filed', 'white', 'case', 'court', 'patent', 'shirt', 'black', 'dress', 'face', 'wearing', 'appeal', 'jacket', 'antitrust', 'protective', 'wore', 'rules']\n",
      "['this', 'future', 'should', 'reason', 'changing', 'follow', 'not', 'step', 'mean', 'meant', 'would', 'means', 'does', 'see', 'any', 'indeed', 'might', 'that', 'likely']\n",
      "[['case' 'this']\n",
      " ['case' 'should']\n",
      " ['case' 'reason']\n",
      " ['case' 'follow']\n",
      " ['case' 'not']\n",
      " ['case' 'would']\n",
      " ['case' 'does']\n",
      " ['case' 'any']\n",
      " ['case' 'indeed']\n",
      " ['case' 'might']\n",
      " ['case' 'that']\n",
      " ['case' 'likely']\n",
      " ['face' 'this']\n",
      " ['face' 'should']\n",
      " ['face' 'reason']\n",
      " ['face' 'not']\n",
      " ['face' 'step']\n",
      " ['face' 'mean']\n",
      " ['face' 'meant']\n",
      " ['face' 'would']\n",
      " ['face' 'means']\n",
      " ['face' 'does']\n",
      " ['face' 'see']\n",
      " ['face' 'any']\n",
      " ['face' 'indeed']\n",
      " ['face' 'might']\n",
      " ['face' 'that']\n",
      " ['face' 'likely']\n",
      " ['appeal' 'this']\n",
      " ['appeal' 'should']\n",
      " ['appeal' 'reason']\n",
      " ['appeal' 'follow']\n",
      " ['appeal' 'not']\n",
      " ['appeal' 'step']\n",
      " ['appeal' 'meant']\n",
      " ['appeal' 'would']\n",
      " ['appeal' 'means']\n",
      " ['appeal' 'does']\n",
      " ['appeal' 'any']\n",
      " ['appeal' 'might']\n",
      " ['appeal' 'that']\n",
      " ['appeal' 'likely']\n",
      " ['rules' 'future']\n",
      " ['rules' 'should']\n",
      " ['rules' 'changing']\n",
      " ['rules' 'follow']\n",
      " ['rules' 'not']\n",
      " ['rules' 'step']\n",
      " ['rules' 'mean']\n",
      " ['rules' 'meant']\n",
      " ['rules' 'would']\n",
      " ['rules' 'means']\n",
      " ['rules' 'any']\n",
      " ['rules' 'that']]\n",
      "kid horse\n",
      "['dad', 'crazy', 'boy', 'mom', 'kids', 'loves', 'dude', 'daddy', 'fun', 'guys', 'wonder', \"'m\", 'somebody', 'gets', 'guy', 'girl', 'cute', '?', '`', 'hey']\n",
      "['horses', 'dog', 'riding', 'bull', 'breeders', 'cat', 'derby', 'ride', 'camel', 'bike', 'thoroughbred', 'racing', 'rides', 'pack', 'pony', 'rode', 'stud', 'hunting', 'cart', 'race']\n",
      "[['crazy' 'dog']\n",
      " ['crazy' 'cat']\n",
      " ['crazy' 'ride']\n",
      " ['boy' 'dog']\n",
      " ['boy' 'cat']\n",
      " ['fun' 'ride']\n",
      " ['girl' 'dog']\n",
      " ['cute' 'cat']]\n",
      "kid belt\n",
      "['dad', 'crazy', 'boy', 'mom', 'kids', 'loves', 'dude', 'daddy', 'fun', 'guys', 'wonder', \"'m\", 'somebody', 'gets', 'guy', 'girl', 'cute', '?', '`', 'hey']\n",
      "['belts', 'conveyer', 'conveyor', 'waist', 'grip', 'helmet', 'trunk', 'ring', 'rope', 'heel', 'boot', 'patch', 'strap', 'outer', 'gear', 'control', 'blade', 'neck', 'attached', 'tight']\n",
      "[]\n",
      "kid shot\n",
      "['dad', 'crazy', 'boy', 'mom', 'kids', 'loves', 'dude', 'daddy', 'fun', 'guys', 'wonder', \"'m\", 'somebody', 'gets', 'guy', 'girl', 'cute', '?', '`', 'hey']\n",
      "['shots', 'pulled', 'grabbed', 'missed', 'caught', 'off', 'shooting', 'struck', 'behind', 'landed', 'shoot', 'hit', 'ball', 'picked', 'out', 'fired', 'blew', 'threw', 'turned', 'man']\n",
      "[['dad' 'man']\n",
      " ['crazy' 'man']\n",
      " ['boy' 'turned']\n",
      " ['boy' 'man']\n",
      " ['guys' 'shoot']\n",
      " ['guys' 'out']\n",
      " [\"'m\" 'out']\n",
      " [\"'m\" 'turned']\n",
      " [\"'m\" 'man']\n",
      " ['somebody' 'shoot']\n",
      " ['somebody' 'out']\n",
      " ['somebody' 'man']\n",
      " ['gets' 'off']\n",
      " ['gets' 'behind']\n",
      " ['gets' 'picked']\n",
      " ['gets' 'out']\n",
      " ['gets' 'turned']\n",
      " ['gets' 'man']\n",
      " ['guy' 'man']\n",
      " ['girl' 'man']\n",
      " ['?' 'out']\n",
      " ['?' 'turned']\n",
      " ['?' 'man']\n",
      " ['`' 'man']]\n",
      "kid change\n",
      "['dad', 'crazy', 'boy', 'mom', 'kids', 'loves', 'dude', 'daddy', 'fun', 'guys', 'wonder', \"'m\", 'somebody', 'gets', 'guy', 'girl', 'cute', '?', '`', 'hey']\n",
      "['this', 'future', 'should', 'reason', 'changing', 'follow', 'not', 'step', 'mean', 'meant', 'would', 'means', 'does', 'see', 'any', 'indeed', 'might', 'that', 'likely']\n",
      "[['crazy' 'mean']\n",
      " ['crazy' 'does']\n",
      " ['crazy' 'see']\n",
      " ['kids' 'does']\n",
      " ['kids' 'see']\n",
      " ['fun' 'mean']\n",
      " ['fun' 'does']\n",
      " ['guys' 'mean']\n",
      " ['guys' 'does']\n",
      " ['guys' 'see']\n",
      " ['guys' 'might']\n",
      " ['wonder' 'this']\n",
      " ['wonder' 'reason']\n",
      " ['wonder' 'not']\n",
      " ['wonder' 'mean']\n",
      " ['wonder' 'does']\n",
      " ['wonder' 'see']\n",
      " ['wonder' 'indeed']\n",
      " ['wonder' 'might']\n",
      " ['wonder' 'that']\n",
      " [\"'m\" 'this']\n",
      " [\"'m\" 'should']\n",
      " [\"'m\" 'reason']\n",
      " [\"'m\" 'not']\n",
      " [\"'m\" 'mean']\n",
      " [\"'m\" 'would']\n",
      " [\"'m\" 'means']\n",
      " [\"'m\" 'does']\n",
      " [\"'m\" 'see']\n",
      " [\"'m\" 'indeed']\n",
      " [\"'m\" 'might']\n",
      " [\"'m\" 'that']\n",
      " ['somebody' 'should']\n",
      " ['somebody' 'reason']\n",
      " ['somebody' 'not']\n",
      " ['somebody' 'mean']\n",
      " ['somebody' 'does']\n",
      " ['somebody' 'see']\n",
      " ['somebody' 'indeed']\n",
      " ['somebody' 'might']\n",
      " ['gets' 'this']\n",
      " ['gets' 'should']\n",
      " ['gets' 'reason']\n",
      " ['gets' 'not']\n",
      " ['gets' 'mean']\n",
      " ['gets' 'meant']\n",
      " ['gets' 'would']\n",
      " ['gets' 'means']\n",
      " ['gets' 'does']\n",
      " ['gets' 'see']\n",
      " ['gets' 'any']\n",
      " ['gets' 'indeed']\n",
      " ['gets' 'might']\n",
      " ['gets' 'that']\n",
      " ['gets' 'likely']\n",
      " ['?' 'this']\n",
      " ['?' 'should']\n",
      " ['?' 'reason']\n",
      " ['?' 'follow']\n",
      " ['?' 'not']\n",
      " ['?' 'mean']\n",
      " ['?' 'meant']\n",
      " ['?' 'would']\n",
      " ['?' 'means']\n",
      " ['?' 'does']\n",
      " ['?' 'see']\n",
      " ['?' 'any']\n",
      " ['?' 'indeed']\n",
      " ['?' 'might']\n",
      " ['?' 'that']\n",
      " ['`' 'this']\n",
      " ['`' 'mean']\n",
      " ['`' 'does']\n",
      " ['`' 'see']\n",
      " ['`' 'might']]\n",
      "kid suit\n",
      "['dad', 'crazy', 'boy', 'mom', 'kids', 'loves', 'dude', 'daddy', 'fun', 'guys', 'wonder', \"'m\", 'somebody', 'gets', 'guy', 'girl', 'cute', '?', '`', 'hey']\n",
      "['suits', 'trademark', 'lawsuit', 'complaint', 'filed', 'white', 'case', 'court', 'patent', 'shirt', 'black', 'dress', 'face', 'wearing', 'appeal', 'jacket', 'antitrust', 'protective', 'wore', 'rules']\n",
      "[['gets' 'face']]\n",
      "princess horse\n",
      "['queen', 'duchess', 'sister', 'bride', 'countess', 'empress', 'niece', 'prince', 'diana', 'daughter', 'camilla', 'aunt', 'consort', 'mistress', 'wife', 'lady', 'mother', 'elizabeth', 'wedding', 'widow']\n",
      "['horses', 'dog', 'riding', 'bull', 'breeders', 'cat', 'derby', 'ride', 'camel', 'bike', 'thoroughbred', 'racing', 'rides', 'pack', 'pony', 'rode', 'stud', 'hunting', 'cart', 'race']\n",
      "[]\n",
      "princess belt\n",
      "['queen', 'duchess', 'sister', 'bride', 'countess', 'empress', 'niece', 'prince', 'diana', 'daughter', 'camilla', 'aunt', 'consort', 'mistress', 'wife', 'lady', 'mother', 'elizabeth', 'wedding', 'widow']\n",
      "['belts', 'conveyer', 'conveyor', 'waist', 'grip', 'helmet', 'trunk', 'ring', 'rope', 'heel', 'boot', 'patch', 'strap', 'outer', 'gear', 'control', 'blade', 'neck', 'attached', 'tight']\n",
      "[]\n",
      "princess shot\n",
      "['queen', 'duchess', 'sister', 'bride', 'countess', 'empress', 'niece', 'prince', 'diana', 'daughter', 'camilla', 'aunt', 'consort', 'mistress', 'wife', 'lady', 'mother', 'elizabeth', 'wedding', 'widow']\n",
      "['shots', 'pulled', 'grabbed', 'missed', 'caught', 'off', 'shooting', 'struck', 'behind', 'landed', 'shoot', 'hit', 'ball', 'picked', 'out', 'fired', 'blew', 'threw', 'turned', 'man']\n",
      "[['daughter' 'man']\n",
      " ['wife' 'man']\n",
      " ['mother' 'man']]\n",
      "princess change\n",
      "['queen', 'duchess', 'sister', 'bride', 'countess', 'empress', 'niece', 'prince', 'diana', 'daughter', 'camilla', 'aunt', 'consort', 'mistress', 'wife', 'lady', 'mother', 'elizabeth', 'wedding', 'widow']\n",
      "['this', 'future', 'should', 'reason', 'changing', 'follow', 'not', 'step', 'mean', 'meant', 'would', 'means', 'does', 'see', 'any', 'indeed', 'might', 'that', 'likely']\n",
      "[]\n",
      "princess suit\n",
      "['queen', 'duchess', 'sister', 'bride', 'countess', 'empress', 'niece', 'prince', 'diana', 'daughter', 'camilla', 'aunt', 'consort', 'mistress', 'wife', 'lady', 'mother', 'elizabeth', 'wedding', 'widow']\n",
      "['suits', 'trademark', 'lawsuit', 'complaint', 'filed', 'white', 'case', 'court', 'patent', 'shirt', 'black', 'dress', 'face', 'wearing', 'appeal', 'jacket', 'antitrust', 'protective', 'wore', 'rules']\n",
      "[]\n",
      "princess kid\n",
      "['queen', 'duchess', 'sister', 'bride', 'countess', 'empress', 'niece', 'prince', 'diana', 'daughter', 'camilla', 'aunt', 'consort', 'mistress', 'wife', 'lady', 'mother', 'elizabeth', 'wedding', 'widow']\n",
      "['dad', 'crazy', 'boy', 'mom', 'kids', 'loves', 'dude', 'daddy', 'fun', 'guys', 'wonder', \"'m\", 'somebody', 'gets', 'guy', 'girl', 'cute', '?', '`', 'hey']\n",
      "[['sister' 'boy']\n",
      " ['sister' 'mom']\n",
      " ['sister' 'girl']\n",
      " ['bride' 'girl']\n",
      " ['daughter' 'dad']\n",
      " ['daughter' 'boy']\n",
      " ['daughter' 'mom']\n",
      " ['daughter' 'girl']\n",
      " ['aunt' 'dad']\n",
      " ['aunt' 'mom']\n",
      " ['aunt' 'girl']\n",
      " ['wife' 'dad']\n",
      " ['wife' 'boy']\n",
      " ['wife' 'mom']\n",
      " ['wife' 'girl']\n",
      " ['mother' 'dad']\n",
      " ['mother' 'boy']\n",
      " ['mother' 'mom']\n",
      " ['mother' 'loves']\n",
      " ['mother' 'girl']]\n",
      "crash horse\n",
      "['accident', 'crashes', 'collision', 'crashed', 'plane', 'explosion', 'flight', 'airplane', 'wreck', 'fatal', 'accidents', 'airliner', 'jetliner', 'takeoff', 'car', 'incident', 'blast', 'occurred', 'jet', 'collided']\n",
      "['horses', 'dog', 'riding', 'bull', 'breeders', 'cat', 'derby', 'ride', 'camel', 'bike', 'thoroughbred', 'racing', 'rides', 'pack', 'pony', 'rode', 'stud', 'hunting', 'cart', 'race']\n",
      "[['car' 'riding']\n",
      " ['car' 'ride']\n",
      " ['car' 'bike']\n",
      " ['car' 'cart']]\n",
      "crash belt\n",
      "['accident', 'crashes', 'collision', 'crashed', 'plane', 'explosion', 'flight', 'airplane', 'wreck', 'fatal', 'accidents', 'airliner', 'jetliner', 'takeoff', 'car', 'incident', 'blast', 'occurred', 'jet', 'collided']\n",
      "['belts', 'conveyer', 'conveyor', 'waist', 'grip', 'helmet', 'trunk', 'ring', 'rope', 'heel', 'boot', 'patch', 'strap', 'outer', 'gear', 'control', 'blade', 'neck', 'attached', 'tight']\n",
      "[]\n",
      "crash shot\n",
      "['accident', 'crashes', 'collision', 'crashed', 'plane', 'explosion', 'flight', 'airplane', 'wreck', 'fatal', 'accidents', 'airliner', 'jetliner', 'takeoff', 'car', 'incident', 'blast', 'occurred', 'jet', 'collided']\n",
      "['shots', 'pulled', 'grabbed', 'missed', 'caught', 'off', 'shooting', 'struck', 'behind', 'landed', 'shoot', 'hit', 'ball', 'picked', 'out', 'fired', 'blew', 'threw', 'turned', 'man']\n",
      "[['collision' 'struck']\n",
      " ['crashed' 'pulled']\n",
      " ['crashed' 'struck']\n",
      " ['crashed' 'landed']\n",
      " ['crashed' 'blew']\n",
      " ['plane' 'landed']\n",
      " ['explosion' 'struck']\n",
      " ['explosion' 'blew']\n",
      " ['flight' 'landed']\n",
      " ['airplane' 'landed']\n",
      " ['takeoff' 'landed']\n",
      " ['car' 'pulled']\n",
      " ['car' 'behind']\n",
      " ['incident' 'shooting']\n",
      " ['blast' 'struck']\n",
      " ['blast' 'blew']\n",
      " ['jet' 'landed']\n",
      " ['collided' 'landed']]\n",
      "crash change\n",
      "['accident', 'crashes', 'collision', 'crashed', 'plane', 'explosion', 'flight', 'airplane', 'wreck', 'fatal', 'accidents', 'airliner', 'jetliner', 'takeoff', 'car', 'incident', 'blast', 'occurred', 'jet', 'collided']\n",
      "['this', 'future', 'should', 'reason', 'changing', 'follow', 'not', 'step', 'mean', 'meant', 'would', 'means', 'does', 'see', 'any', 'indeed', 'might', 'that', 'likely']\n",
      "[]\n",
      "crash suit\n",
      "['accident', 'crashes', 'collision', 'crashed', 'plane', 'explosion', 'flight', 'airplane', 'wreck', 'fatal', 'accidents', 'airliner', 'jetliner', 'takeoff', 'car', 'incident', 'blast', 'occurred', 'jet', 'collided']\n",
      "['suits', 'trademark', 'lawsuit', 'complaint', 'filed', 'white', 'case', 'court', 'patent', 'shirt', 'black', 'dress', 'face', 'wearing', 'appeal', 'jacket', 'antitrust', 'protective', 'wore', 'rules']\n",
      "[['incident' 'case']]\n",
      "crash kid\n",
      "['accident', 'crashes', 'collision', 'crashed', 'plane', 'explosion', 'flight', 'airplane', 'wreck', 'fatal', 'accidents', 'airliner', 'jetliner', 'takeoff', 'car', 'incident', 'blast', 'occurred', 'jet', 'collided']\n",
      "['dad', 'crazy', 'boy', 'mom', 'kids', 'loves', 'dude', 'daddy', 'fun', 'guys', 'wonder', \"'m\", 'somebody', 'gets', 'guy', 'girl', 'cute', '?', '`', 'hey']\n",
      "[]\n",
      "crash princess\n",
      "['accident', 'crashes', 'collision', 'crashed', 'plane', 'explosion', 'flight', 'airplane', 'wreck', 'fatal', 'accidents', 'airliner', 'jetliner', 'takeoff', 'car', 'incident', 'blast', 'occurred', 'jet', 'collided']\n",
      "['queen', 'duchess', 'sister', 'bride', 'countess', 'empress', 'niece', 'prince', 'diana', 'daughter', 'camilla', 'aunt', 'consort', 'mistress', 'wife', 'lady', 'mother', 'elizabeth', 'wedding', 'widow']\n",
      "[]\n"
     ]
    }
   ],
   "source": [
    "for i in range(len(red)):\n",
    "    for j in range(i):\n",
    "        print(red[i], red[j])\n",
    "        topK_i = model.most_similar(red[i], topn=20)\n",
    "        topK_j = model.most_similar(red[j], topn=20)\n",
    "        topK_i_words = [word for (word, sim) in topK_i if sim < 0.9]\n",
    "        topK_j_words = [word for (word, sim) in topK_j if sim < 0.9]\n",
    "        print(topK_i_words)\n",
    "        print(topK_j_words)\n",
    "        if len(topK_i_words) * len(topK_j_words) > 0:\n",
    "            cos_matrix = cosine_similarity(model[topK_i_words], model[topK_j_words])\n",
    "            word_matrix = np.array(np.meshgrid(topK_i_words, topK_j_words)).T.reshape(len(topK_i_words), len(topK_j_words), 2)\n",
    "    #         print(word_matrix)\n",
    "            print(word_matrix[cos_matrix > 0.65]) # perhaps add averaging here\n",
    "        else:\n",
    "            print('blah')\n"
   ]
  },
  {
   "cell_type": "code",
   "execution_count": 50,
   "metadata": {},
   "outputs": [
    {
     "data": {
      "text/plain": [
       "array([[['horse', 'horse'],\n",
       "        ['horse', 'belt'],\n",
       "        ['horse', 'shot'],\n",
       "        ['horse', 'change'],\n",
       "        ['horse', 'suit'],\n",
       "        ['horse', 'kid'],\n",
       "        ['horse', 'princess'],\n",
       "        ['horse', 'crash']],\n",
       "\n",
       "       [['belt', 'horse'],\n",
       "        ['belt', 'belt'],\n",
       "        ['belt', 'shot'],\n",
       "        ['belt', 'change'],\n",
       "        ['belt', 'suit'],\n",
       "        ['belt', 'kid'],\n",
       "        ['belt', 'princess'],\n",
       "        ['belt', 'crash']],\n",
       "\n",
       "       [['shot', 'horse'],\n",
       "        ['shot', 'belt'],\n",
       "        ['shot', 'shot'],\n",
       "        ['shot', 'change'],\n",
       "        ['shot', 'suit'],\n",
       "        ['shot', 'kid'],\n",
       "        ['shot', 'princess'],\n",
       "        ['shot', 'crash']],\n",
       "\n",
       "       [['change', 'horse'],\n",
       "        ['change', 'belt'],\n",
       "        ['change', 'shot'],\n",
       "        ['change', 'change'],\n",
       "        ['change', 'suit'],\n",
       "        ['change', 'kid'],\n",
       "        ['change', 'princess'],\n",
       "        ['change', 'crash']],\n",
       "\n",
       "       [['suit', 'horse'],\n",
       "        ['suit', 'belt'],\n",
       "        ['suit', 'shot'],\n",
       "        ['suit', 'change'],\n",
       "        ['suit', 'suit'],\n",
       "        ['suit', 'kid'],\n",
       "        ['suit', 'princess'],\n",
       "        ['suit', 'crash']],\n",
       "\n",
       "       [['kid', 'horse'],\n",
       "        ['kid', 'belt'],\n",
       "        ['kid', 'shot'],\n",
       "        ['kid', 'change'],\n",
       "        ['kid', 'suit'],\n",
       "        ['kid', 'kid'],\n",
       "        ['kid', 'princess'],\n",
       "        ['kid', 'crash']],\n",
       "\n",
       "       [['princess', 'horse'],\n",
       "        ['princess', 'belt'],\n",
       "        ['princess', 'shot'],\n",
       "        ['princess', 'change'],\n",
       "        ['princess', 'suit'],\n",
       "        ['princess', 'kid'],\n",
       "        ['princess', 'princess'],\n",
       "        ['princess', 'crash']],\n",
       "\n",
       "       [['crash', 'horse'],\n",
       "        ['crash', 'belt'],\n",
       "        ['crash', 'shot'],\n",
       "        ['crash', 'change'],\n",
       "        ['crash', 'suit'],\n",
       "        ['crash', 'kid'],\n",
       "        ['crash', 'princess'],\n",
       "        ['crash', 'crash']]], dtype='<U8')"
      ]
     },
     "execution_count": 50,
     "metadata": {},
     "output_type": "execute_result"
    }
   ],
   "source": [
    "np.array(np.meshgrid(red, red)).T.reshape(len(red), len(red) ,2)"
   ]
  },
  {
   "cell_type": "code",
   "execution_count": null,
   "metadata": {},
   "outputs": [],
   "source": []
  },
  {
   "cell_type": "code",
   "execution_count": null,
   "metadata": {},
   "outputs": [],
   "source": []
  },
  {
   "cell_type": "code",
   "execution_count": 11,
   "metadata": {},
   "outputs": [],
   "source": [
    "from sklearn.metrics.pairwise import cosine_similarity"
   ]
  },
  {
   "cell_type": "code",
   "execution_count": 13,
   "metadata": {},
   "outputs": [
    {
     "data": {
      "text/plain": [
       "array(['horse', 'belt', 'shot', 'change', 'suit', 'kid', 'princess',\n",
       "       'crash'], dtype='<U8')"
      ]
     },
     "execution_count": 13,
     "metadata": {},
     "output_type": "execute_result"
    }
   ],
   "source": [
    "red"
   ]
  },
  {
   "cell_type": "code",
   "execution_count": 12,
   "metadata": {},
   "outputs": [
    {
     "data": {
      "text/plain": [
       "array([[1.        , 0.5393989 , 0.40194672, 0.32023942, 0.41400403,\n",
       "        0.49267405, 0.38919038, 0.3479924 ],\n",
       "       [0.5393989 , 1.        , 0.41181612, 0.38851792, 0.4141474 ,\n",
       "        0.36508656, 0.1346004 , 0.36560497],\n",
       "       [0.40194672, 0.41181612, 1.        , 0.28981543, 0.3350219 ,\n",
       "        0.4554358 , 0.13844678, 0.5345875 ],\n",
       "       [0.32023942, 0.38851792, 0.28981543, 1.0000001 , 0.46239328,\n",
       "        0.36283013, 0.10451277, 0.4045446 ],\n",
       "       [0.41400403, 0.4141474 , 0.3350219 , 0.46239328, 1.        ,\n",
       "        0.3365702 , 0.34198192, 0.30726376],\n",
       "       [0.49267405, 0.36508656, 0.4554358 , 0.36283013, 0.3365702 ,\n",
       "        1.        , 0.23344147, 0.22632346],\n",
       "       [0.38919038, 0.1346004 , 0.13844676, 0.10451275, 0.34198195,\n",
       "        0.23344147, 1.        , 0.36479485],\n",
       "       [0.3479924 , 0.365605  , 0.5345875 , 0.4045446 , 0.30726376,\n",
       "        0.22632347, 0.36479485, 1.        ]], dtype=float32)"
      ]
     },
     "execution_count": 12,
     "metadata": {},
     "output_type": "execute_result"
    }
   ],
   "source": [
    "cosine_similarity(model[red], model[red])"
   ]
  },
  {
   "cell_type": "code",
   "execution_count": 9,
   "metadata": {},
   "outputs": [
    {
     "data": {
      "text/plain": [
       "array([[26.432423 , 12.973879 , 11.503617 ,  8.21177  , 10.453274 ,\n",
       "        12.514881 , 11.429198 ,  9.07983  ],\n",
       "       [12.973879 , 21.88682  , 10.724874 ,  9.065589 ,  9.515366 ,\n",
       "         8.438898 ,  3.596855 ,  8.680465 ],\n",
       "       [11.503617 , 10.724874 , 30.98811  ,  8.046601 ,  9.1590395,\n",
       "        12.526313 ,  4.402157 , 15.102742 ],\n",
       "       [ 8.21177  ,  9.065589 ,  8.046601 , 24.876383 , 11.326203 ,\n",
       "         8.941193 ,  2.9774752, 10.239988 ],\n",
       "       [10.453274 ,  9.515366 ,  9.1590395, 11.326203 , 24.118952 ,\n",
       "         8.166828 ,  9.59329  ,  7.658259 ],\n",
       "       [12.514881 ,  8.438898 , 12.526313 ,  8.941193 ,  8.166828 ,\n",
       "        24.411648 ,  6.5881243,  5.6750236],\n",
       "       [11.429198 ,  3.596855 ,  4.402157 ,  2.9774754,  9.593291 ,\n",
       "         6.5881243, 32.626495 , 10.574831 ],\n",
       "       [ 9.079831 ,  8.680465 , 15.102742 , 10.239988 ,  7.658259 ,\n",
       "         5.6750236, 10.574831 , 25.756035 ]], dtype=float32)"
      ]
     },
     "execution_count": 9,
     "metadata": {},
     "output_type": "execute_result"
    }
   ],
   "source": [
    "np.inner(model[red], model[red])"
   ]
  },
  {
   "cell_type": "code",
   "execution_count": null,
   "metadata": {},
   "outputs": [],
   "source": []
  }
 ],
 "metadata": {
  "kernelspec": {
   "display_name": "Python 3",
   "language": "python",
   "name": "python3"
  },
  "language_info": {
   "codemirror_mode": {
    "name": "ipython",
    "version": 3
   },
   "file_extension": ".py",
   "mimetype": "text/x-python",
   "name": "python",
   "nbconvert_exporter": "python",
   "pygments_lexer": "ipython3",
   "version": "3.6.10"
  }
 },
 "nbformat": 4,
 "nbformat_minor": 4
}
